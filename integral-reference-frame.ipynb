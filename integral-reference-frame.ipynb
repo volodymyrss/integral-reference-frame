{
 "cells": [
  {
   "cell_type": "code",
   "execution_count": 26,
   "metadata": {},
   "outputs": [],
   "source": [
    "import requests\n",
    "import astropy.io.fits as fits\n",
    "import pandas as pd\n",
    "import matplotlib.pylab as plt\n",
    "import numpy as np\n",
    "import astropy.units as u\n",
    "import astropy.constants as const"
   ]
  },
  {
   "cell_type": "code",
   "execution_count": 29,
   "metadata": {},
   "outputs": [],
   "source": [
    "orbit = fits.open(\"/mnt/sshfs/cdcihn/isdc/arc/rev_3/aux/adp/2121.001/orbit_historic.fits.gz\")\n",
    "t1=orbit[1].data['DAYBEG']*u.day\n",
    "t2=orbit[1].data['DAYEND']*u.day\n",
    "xyz = orbit[1].data['XYZPOS']*u.km"
   ]
  },
  {
   "cell_type": "code",
   "execution_count": 63,
   "metadata": {},
   "outputs": [],
   "source": [
    "v_r = np.sum((xyz[1:]-xyz[:-1])**2, 1)**0.5 / ((t2-t1)[:-1])\n",
    "beta = (v_r/const.c).si.value"
   ]
  },
  {
   "cell_type": "code",
   "execution_count": 64,
   "metadata": {},
   "outputs": [
    {
     "data": {
      "text/plain": [
       "array([2.90476748e-05, 2.90139787e-05, 2.91138192e-05, 2.90922390e-05,\n",
       "       2.90768033e-05, 2.90674427e-05, 2.90644484e-05, 2.91951749e-05,\n",
       "       2.90760796e-05, 2.90912679e-05, 2.91123810e-05, 2.91396463e-05,\n",
       "       2.90456345e-05, 2.90850497e-05, 2.91305826e-05, 2.90554804e-05,\n",
       "       2.89870590e-05, 2.90509109e-05, 2.89953358e-05, 2.89466673e-05,\n",
       "       2.89044825e-05, 2.89924239e-05, 2.88405449e-05, 2.88182609e-05,\n",
       "       2.89245560e-05, 2.87942811e-05, 2.86727004e-05, 2.87968995e-05,\n",
       "       2.85717839e-05, 2.87078278e-05, 2.85001510e-05, 2.85327029e-05,\n",
       "       2.84573876e-05, 2.85036099e-05, 2.83315900e-05, 2.82807438e-05,\n",
       "       2.82381348e-05, 2.82030492e-05, 2.80690470e-05, 2.80509115e-05,\n",
       "       2.80407175e-05, 2.79342980e-05, 2.78380096e-05, 2.77517313e-05,\n",
       "       2.76753185e-05, 2.76083525e-05, 2.75509351e-05, 2.74080943e-05,\n",
       "       2.73706530e-05, 2.72501228e-05, 2.71414056e-05, 2.71334144e-05,\n",
       "       2.69583558e-05, 2.68835595e-05, 2.68198839e-05, 2.66835212e-05,\n",
       "       2.66423862e-05, 2.64509963e-05, 2.64326952e-05, 2.62697500e-05,\n",
       "       2.61222898e-05, 2.60635490e-05, 2.59439422e-05, 2.58387554e-05,\n",
       "       2.56779586e-05, 2.56013907e-05, 2.54714061e-05, 2.53571491e-05,\n",
       "       2.51945809e-05, 2.51112998e-05, 2.49217087e-05, 2.48688605e-05,\n",
       "       2.46571052e-05, 2.45780507e-05, 2.44049078e-05, 2.43043394e-05,\n",
       "       2.41171064e-05, 2.40007507e-05, 2.38533104e-05, 2.37252961e-05,\n",
       "       2.35699471e-05, 2.33906123e-05, 2.32763706e-05, 2.30970679e-05,\n",
       "       2.29404562e-05, 2.28054552e-05, 2.26150757e-05, 2.24856376e-05,\n",
       "       2.23060487e-05, 2.21505930e-05, 2.19520140e-05, 2.18115030e-05,\n",
       "       2.16627416e-05, 2.14778505e-05, 2.12906165e-05, 2.11300674e-05,\n",
       "       2.09416171e-05, 2.07806061e-05, 2.05963374e-05, 2.04163259e-05,\n",
       "       2.02414956e-05, 2.00511282e-05, 1.98484085e-05, 1.96962157e-05,\n",
       "       1.94756108e-05, 1.93059796e-05, 1.91129550e-05, 1.89177975e-05,\n",
       "       1.87224981e-05, 1.85289157e-05, 1.83385470e-05, 1.81391254e-05,\n",
       "       1.79337197e-05, 1.77375731e-05, 1.75277014e-05, 1.73306690e-05,\n",
       "       1.71252258e-05, 1.69147841e-05, 1.67118388e-05, 1.64992703e-05,\n",
       "       1.62979737e-05, 1.60760644e-05, 1.58696969e-05, 1.56499521e-05,\n",
       "       1.54417997e-05, 1.52201202e-05, 1.50077835e-05, 1.47887283e-05,\n",
       "       1.45666553e-05, 1.43446971e-05, 1.41208544e-05, 1.39024999e-05,\n",
       "       1.36749574e-05, 1.34540924e-05, 1.32235530e-05, 1.29979492e-05,\n",
       "       1.27667261e-05, 1.25395604e-05, 1.23077327e-05, 1.20775064e-05,\n",
       "       1.18444051e-05, 1.04804104e-05, 5.58343198e-06, 3.03370080e-03,\n",
       "       1.11850983e-05, 1.09477330e-05, 1.07129001e-05, 1.04739744e-05,\n",
       "       1.02358544e-05, 9.99724240e-06, 9.75623314e-06, 9.51479109e-06,\n",
       "       9.27443081e-06, 9.03105985e-06, 8.78914041e-06, 8.54454455e-06,\n",
       "       8.30115348e-06, 8.05562122e-06, 7.81119351e-06, 7.56555541e-06,\n",
       "       7.31985629e-06, 7.07358563e-06, 6.82709332e-06, 6.58119813e-06,\n",
       "       6.33480382e-06, 6.08899771e-06, 5.84336469e-06, 5.59838891e-06,\n",
       "       5.35403933e-06, 5.11107128e-06, 4.86918602e-06, 4.62911811e-06,\n",
       "       4.39114219e-06, 4.15588500e-06, 3.92379083e-06, 3.69564949e-06,\n",
       "       3.47244240e-06, 3.25514866e-06, 3.04502818e-06, 2.84369361e-06,\n",
       "       2.65323925e-06, 2.47598380e-06, 2.31478651e-06, 2.17317875e-06,\n",
       "       2.05485131e-06, 1.96363052e-06, 1.90323000e-06, 1.87606878e-06,\n",
       "       1.88328335e-06, 1.92400890e-06, 1.99586784e-06, 2.09517533e-06,\n",
       "       2.21801774e-06, 2.36039484e-06, 2.51869180e-06, 2.69003870e-06,\n",
       "       2.87178016e-06, 3.06198690e-06, 3.25902079e-06, 3.46166025e-06,\n",
       "       3.66894060e-06, 3.88004714e-06, 4.09419196e-06, 4.31125190e-06,\n",
       "       4.53050295e-06, 4.75155964e-06, 4.97439449e-06, 5.19856452e-06,\n",
       "       5.42421231e-06, 5.65057823e-06, 5.87832742e-06, 6.10644898e-06,\n",
       "       6.33539572e-06, 6.56524892e-06, 6.79512098e-06, 7.02565109e-06,\n",
       "       7.25622438e-06, 7.48736118e-06, 7.71916559e-06, 7.95046151e-06,\n",
       "       8.18160120e-06, 8.41314238e-06, 8.64509492e-06, 8.87663188e-06,\n",
       "       9.10768158e-06, 9.33936106e-06, 9.56990943e-06, 9.79957277e-06,\n",
       "       1.00317000e-05, 1.02606091e-05, 1.04917136e-05, 1.07186184e-05,\n",
       "       1.09500030e-05, 1.11773594e-05, 1.14049388e-05, 1.16316682e-05,\n",
       "       1.18589383e-05, 1.20861088e-05, 1.23096184e-05, 1.25347109e-05,\n",
       "       1.27582842e-05, 1.29839058e-05, 1.32046613e-05, 1.34245511e-05,\n",
       "       1.36490618e-05, 1.38662878e-05, 1.40868158e-05, 1.43081861e-05,\n",
       "       1.45215451e-05, 1.47407867e-05, 1.49509352e-05, 1.51681484e-05,\n",
       "       1.53835073e-05, 1.56016036e-05, 1.58034897e-05, 1.60185871e-05,\n",
       "       1.62281536e-05, 1.64284083e-05, 1.66463457e-05, 1.68387581e-05,\n",
       "       1.70564142e-05, 1.72526908e-05, 1.74598591e-05, 1.76640721e-05,\n",
       "       1.78625109e-05, 1.80521596e-05, 1.82450280e-05, 1.84558449e-05,\n",
       "       1.86511242e-05, 1.88266830e-05, 1.90334785e-05, 1.92352991e-05,\n",
       "       1.94091295e-05, 1.95918902e-05, 1.97829791e-05, 1.99588648e-05,\n",
       "       2.01638769e-05, 2.03251235e-05, 2.05136374e-05, 2.07041282e-05,\n",
       "       2.08673764e-05, 2.10568074e-05, 2.12138371e-05, 2.13959895e-05,\n",
       "       2.15722785e-05, 2.17070665e-05, 2.18993147e-05, 2.20818366e-05,\n",
       "       2.22522153e-05, 2.23695693e-05, 2.25867953e-05, 2.27069419e-05,\n",
       "       2.28895111e-05, 2.30078557e-05, 2.31906323e-05, 2.33496593e-05,\n",
       "       2.34817851e-05, 2.36332544e-05, 2.38045891e-05, 2.39447832e-05,\n",
       "       2.40500012e-05, 2.42268626e-05, 2.43676492e-05, 2.44681120e-05,\n",
       "       2.46440245e-05, 2.47779093e-05, 2.49290299e-05, 2.50330916e-05,\n",
       "       2.51521895e-05, 2.52869006e-05, 2.54374444e-05, 2.55338754e-05,\n",
       "       2.56442824e-05, 2.57687128e-05, 2.59078131e-05, 2.59851489e-05,\n",
       "       2.61527551e-05, 2.62564072e-05, 2.63728660e-05, 2.64196047e-05,\n",
       "       2.65610038e-05, 2.66303495e-05, 2.67976932e-05, 2.68905325e-05,\n",
       "       2.69946029e-05, 2.70182900e-05, 2.71441746e-05, 2.72819955e-05,\n",
       "       2.73350384e-05, 2.73977443e-05, 2.75693765e-05, 2.75528805e-05,\n",
       "       2.76448030e-05, 2.77466422e-05, 2.78582991e-05, 2.79802703e-05,\n",
       "       2.78983074e-05, 2.80378211e-05, 2.81878478e-05, 2.81267553e-05,\n",
       "       2.82950377e-05, 2.83606510e-05, 2.83202670e-05, 2.84009365e-05,\n",
       "       2.84900793e-05, 2.85873997e-05, 2.85746247e-05, 2.86876027e-05,\n",
       "       2.86886865e-05, 2.86961780e-05, 2.88320357e-05, 2.87314593e-05,\n",
       "       2.88818036e-05, 2.89165885e-05, 2.89581768e-05, 2.88814801e-05,\n",
       "       2.90616491e-05, 2.89967664e-05, 2.90645430e-05, 2.90120187e-05,\n",
       "       2.90927714e-05, 2.91801388e-05])"
      ]
     },
     "execution_count": 64,
     "metadata": {},
     "output_type": "execute_result"
    }
   ],
   "source": [
    "beta"
   ]
  },
  {
   "cell_type": "code",
   "execution_count": 96,
   "metadata": {},
   "outputs": [
    {
     "data": {
      "text/plain": [
       "(0.0, 1.9480350531097705e-05)"
      ]
     },
     "execution_count": 96,
     "metadata": {},
     "output_type": "execute_result"
    },
    {
     "data": {
      "image/png": "[encoded data removed]",
      "text/plain": [
       "<Figure size 432x288 with 1 Axes>"
      ]
     },
     "metadata": {
      "needs_background": "light"
     },
     "output_type": "display_data"
    }
   ],
   "source": [
    "plt.figure()\n",
    "\n",
    "plt.plot(t1[:-1], beta)\n",
    "\n",
    "plt.ylim([0, np.percentile(beta,0.999)*10])"
   ]
  },
  {
   "cell_type": "code",
   "execution_count": 105,
   "metadata": {},
   "outputs": [
    {
     "data": {
      "text/latex": [
       "$[13.313642,~13.282768,~13.374338,~\\dots,~13.280975,~13.355013,~13.435343] \\; \\mathrm{ms}$"
      ],
      "text/plain": [
       "<Quantity [1.33136421e+01, 1.32827684e+01, 1.33743385e+01, 1.33545221e+01,\n",
       "           1.33403536e+01, 1.33317698e+01, 1.33290229e+01, 1.34491893e+01,\n",
       "           1.33396879e+01, 1.33536322e+01, 1.33730211e+01, 1.33980788e+01,\n",
       "           1.33117712e+01, 1.33479213e+01, 1.33897473e+01, 1.33207965e+01,\n",
       "           1.32581311e+01, 1.33166062e+01, 1.32657059e+01, 1.32212102e+01,\n",
       "           1.31827057e+01, 1.32630432e+01, 1.31244479e+01, 1.31041691e+01,\n",
       "           1.32010225e+01, 1.30823767e+01, 1.29721255e+01, 1.30847521e+01,\n",
       "           1.28809759e+01, 1.30039311e+01, 1.28164677e+01, 1.28457647e+01,\n",
       "           1.27780332e+01, 1.28195788e+01, 1.26653155e+01, 1.26198948e+01,\n",
       "           1.25818948e+01, 1.25506497e+01, 1.24316675e+01, 1.24156071e+01,\n",
       "           1.24065888e+01, 1.23125943e+01, 1.22278563e+01, 1.21521786e+01,\n",
       "           1.20853510e+01, 1.20269390e+01, 1.19769637e+01, 1.18530975e+01,\n",
       "           1.18207313e+01, 1.17168566e+01, 1.16235488e+01, 1.16167028e+01,\n",
       "           1.14672954e+01, 1.14037471e+01, 1.13497917e+01, 1.12346705e+01,\n",
       "           1.12000620e+01, 1.10397233e+01, 1.10244476e+01, 1.08889495e+01,\n",
       "           1.07670454e+01, 1.07186747e+01, 1.06205249e+01, 1.05345817e+01,\n",
       "           1.04038765e+01, 1.03419188e+01, 1.02371683e+01, 1.01455352e+01,\n",
       "           1.00158601e+01, 9.94975418e+00, 9.80008049e+00, 9.75856286e+00,\n",
       "           9.59308095e+00, 9.53166990e+00, 9.39784649e+00, 9.32055713e+00,\n",
       "           9.17750525e+00, 9.08915854e+00, 8.97782822e+00, 8.88172455e+00,\n",
       "           8.76579752e+00, 8.63291307e+00, 8.54879170e+00, 8.41758898e+00,\n",
       "           8.30382718e+00, 8.20637812e+00, 8.06994103e+00, 7.97782444e+00,\n",
       "           7.85089612e+00, 7.74185015e+00, 7.60366126e+00, 7.50663264e+00,\n",
       "           7.40458686e+00, 7.27873063e+00, 7.15238390e+00, 7.04491455e+00,\n",
       "           6.91981510e+00, 6.81381727e+00, 6.69351074e+00, 6.57702313e+00,\n",
       "           6.46486597e+00, 6.34383070e+00, 6.21620866e+00, 6.12124715e+00,\n",
       "           5.98489415e+00, 5.88108957e+00, 5.76407642e+00, 5.64696517e+00,\n",
       "           5.53097508e+00, 5.41719225e+00, 5.30645054e+00, 5.19166568e+00,\n",
       "           5.07475064e+00, 4.96435228e+00, 4.84757037e+00, 4.73919710e+00,\n",
       "           4.62750241e+00, 4.51447636e+00, 4.40679680e+00, 4.29540342e+00,\n",
       "           4.19122745e+00, 4.07787206e+00, 3.97385026e+00, 3.86455904e+00,\n",
       "           3.76244319e+00, 3.65519107e+00, 3.55391608e+00, 3.45093134e+00,\n",
       "           3.34806572e+00, 3.24681175e+00, 3.14627252e+00, 3.04972038e+00,\n",
       "           2.95070872e+00, 2.85616765e+00, 2.75911800e+00, 2.66577516e+00,\n",
       "           2.57178064e+00, 2.48107251e+00, 2.39018218e+00, 2.30159723e+00,\n",
       "           2.21360788e+00, 1.73313154e+00, 4.91905077e-01, 1.45218672e+05,\n",
       "           1.97403189e+00, 1.89113678e+00, 1.81087637e+00, 1.73100135e+00,\n",
       "           1.65319346e+00, 1.57701124e+00, 1.50189411e+00, 1.42847973e+00,\n",
       "           1.35721656e+00, 1.28692038e+00, 1.21890154e+00, 1.15200385e+00,\n",
       "           1.08730642e+00, 1.02393335e+00, 9.62739519e-01, 9.03143327e-01,\n",
       "           8.45432070e-01, 7.89507648e-01, 7.35440133e-01, 6.83418718e-01,\n",
       "           6.33205160e-01, 5.85016681e-01, 5.38769196e-01, 4.94539782e-01,\n",
       "           4.52314426e-01, 4.12191228e-01, 3.74100117e-01, 3.38125179e-01,\n",
       "           3.04252399e-01, 2.72523821e-01, 2.42932437e-01, 2.15506277e-01,\n",
       "           1.90259354e-01, 1.67191669e-01, 1.46310228e-01, 1.27601018e-01,\n",
       "           1.11078052e-01, 9.67343246e-02, 8.45488128e-02, 7.45215170e-02,\n",
       "           6.66244084e-02, 6.08434727e-02, 5.71576882e-02, 5.55390262e-02,\n",
       "           5.59664651e-02, 5.84119761e-02, 6.28545376e-02, 6.92661208e-02,\n",
       "           7.76257043e-02, 8.79122663e-02, 1.00097778e-01, 1.14182240e-01,\n",
       "           1.30130615e-01, 1.47942904e-01, 1.67591079e-01, 1.89082145e-01,\n",
       "           2.12402090e-01, 2.37550912e-01, 2.64493576e-01, 2.93279132e-01,\n",
       "           3.23872545e-01, 3.56245785e-01, 3.90440896e-01, 4.26422841e-01,\n",
       "           4.64247679e-01, 5.03803293e-01, 5.45236836e-01, 5.88373128e-01,\n",
       "           6.33317275e-01, 6.80111322e-01, 7.28566075e-01, 7.78842698e-01,\n",
       "           8.30801047e-01, 8.84574260e-01, 9.40190366e-01, 9.97376083e-01,\n",
       "           1.05621550e+00, 1.11684175e+00, 1.17927585e+00, 1.24328658e+00,\n",
       "           1.30885290e+00, 1.37629014e+00, 1.44507277e+00, 1.51526384e+00,\n",
       "           1.58790042e+00, 1.66119568e+00, 1.73687338e+00, 1.81281035e+00,\n",
       "           1.89192158e+00, 1.97129908e+00, 2.05239335e+00, 2.13480497e+00,\n",
       "           2.21904546e+00, 2.30487659e+00, 2.39091093e+00, 2.47915254e+00,\n",
       "           2.56837515e+00, 2.66002225e+00, 2.75124191e+00, 2.84363878e+00,\n",
       "           2.93954626e+00, 3.03385609e+00, 3.13112296e+00, 3.23030280e+00,\n",
       "           3.32735946e+00, 3.42859240e+00, 3.52704349e+00, 3.63027348e+00,\n",
       "           3.73409208e+00, 3.84072056e+00, 3.94076228e+00, 4.04876418e+00,\n",
       "           4.15539967e+00, 4.25858061e+00, 4.37232140e+00, 4.47398178e+00,\n",
       "           4.59039231e+00, 4.69664941e+00, 4.81011692e+00, 4.92329713e+00,\n",
       "           5.03453634e+00, 5.14200569e+00, 5.25246711e+00, 5.37454646e+00,\n",
       "           5.48888286e+00, 5.59270146e+00, 5.71623830e+00, 5.83810743e+00,\n",
       "           5.94410527e+00, 6.05657075e+00, 6.17529365e+00, 6.28558689e+00,\n",
       "           6.41537416e+00, 6.51839394e+00, 6.63987066e+00, 6.76375787e+00,\n",
       "           6.87084182e+00, 6.99615149e+00, 7.10088803e+00, 7.22335277e+00,\n",
       "           7.34287449e+00, 7.43492100e+00, 7.56719582e+00, 7.69386488e+00,\n",
       "           7.81305026e+00, 7.89567910e+00, 8.04976731e+00, 8.13563348e+00,\n",
       "           8.26698335e+00, 8.35268835e+00, 8.48593016e+00, 8.60270506e+00,\n",
       "           8.70034331e+00, 8.81294893e+00, 8.94119461e+00, 9.04682107e+00,\n",
       "           9.12649988e+00, 9.26122721e+00, 9.36917305e+00, 9.44658854e+00,\n",
       "           9.58290651e+00, 9.68731371e+00, 9.80584041e+00, 9.88788065e+00,\n",
       "           9.98218347e+00, 1.00894006e+01, 1.02098893e+01, 1.02874449e+01,\n",
       "           1.03766045e+01, 1.04775431e+01, 1.05909686e+01, 1.06542926e+01,\n",
       "           1.07921732e+01, 1.08778922e+01, 1.09745985e+01, 1.10135374e+01,\n",
       "           1.11317418e+01, 1.11899436e+01, 1.13310194e+01, 1.14096612e+01,\n",
       "           1.14981480e+01, 1.15183358e+01, 1.16259172e+01, 1.17442757e+01,\n",
       "           1.17899907e+01, 1.18441423e+01, 1.19930031e+01, 1.19786524e+01,\n",
       "           1.20587166e+01, 1.21477220e+01, 1.22456896e+01, 1.23531519e+01,\n",
       "           1.22808867e+01, 1.24040242e+01, 1.25371258e+01, 1.24828411e+01,\n",
       "           1.26326549e+01, 1.26913121e+01, 1.26551901e+01, 1.27273922e+01,\n",
       "           1.28074144e+01, 1.28950603e+01, 1.28835405e+01, 1.29856143e+01,\n",
       "           1.29865953e+01, 1.29933783e+01, 1.31167049e+01, 1.30253521e+01,\n",
       "           1.31620275e+01, 1.31937490e+01, 1.32317280e+01, 1.31617262e+01,\n",
       "           1.33264513e+01, 1.32670163e+01, 1.33291070e+01, 1.32809746e+01,\n",
       "           1.33550126e+01, 1.34353431e+01] ms>"
      ]
     },
     "execution_count": 105,
     "metadata": {},
     "output_type": "execute_result"
    }
   ],
   "source": [
    "gamma = (1-beta**2)**0.5\n",
    "(u.year/gamma - 1*u.year).to(u.ms)"
   ]
  },
  {
   "cell_type": "markdown",
   "metadata": {},
   "source": [
    "# Relativisitc abberation effect on location\n",
    "\n",
    "$cos(\\theta_o) = \\frac{cos(\\theta_s) - \\beta}{1 - \\beta cos(\\theta_s)}$\n",
    "\n",
    "the effect is small but measurble, around 0.1 arcmin 10% of the time.\n",
    "compare to 12 arcmin ISGRI PSF and 3 arcmin of JEM-X, bright sources would be affected.\n",
    "\n",
    "Presumably, this is automatically corrected since star trackers are affected in the same way.\n"
   ]
  },
  {
   "cell_type": "code",
   "execution_count": 90,
   "metadata": {},
   "outputs": [
    {
     "data": {
      "text/plain": [
       "0.09906253972114772"
      ]
     },
     "execution_count": 90,
     "metadata": {},
     "output_type": "execute_result"
    }
   ],
   "source": [
    "theta = np.pi/2.\n",
    "\n",
    "d_theta = (np.arccos((np.cos(theta) - beta)/(1-beta*np.cos(theta))) - theta)/np.pi*180*60\n",
    "\n",
    "np.quantile(d_theta,0.9)"
   ]
  }
 ],
 "metadata": {
  "kernelspec": {
   "display_name": "Python 3",
   "language": "python",
   "name": "python3"
  },
  "language_info": {
   "codemirror_mode": {
    "name": "ipython",
    "version": 3
   },
   "file_extension": ".py",
   "mimetype": "text/x-python",
   "name": "python",
   "nbconvert_exporter": "python",
   "pygments_lexer": "ipython3",
   "version": "3.8.2"
  }
 },
 "nbformat": 4,
 "nbformat_minor": 4
}
