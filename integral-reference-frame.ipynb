{
 "cells": [
  {
   "cell_type": "markdown",
   "metadata": {},
   "source": [
    "# Note on INTEGRAL time systems\n",
    "\n",
    "This is a short notice about using correct timing with INTEGRAL.\n",
    "\n",
    "One should distinguish the time correction due to different time-systems (different clocks) and due to different locations of signal registration.\n",
    "Correction for time of arrival\n",
    "\n",
    "As indicated here: http://isdc.unige.ch/integral/support/glossary#ijd, INTEGRAL IJD, used in all OSA products to describe time as float, is in TT.\n",
    "\n",
    "TT = TAI+32.184s \n",
    "UTC is offset from TAI by fixed amount.\n",
    "\n",
    "UT0,1,2 are irregular and defined by observatories.\n",
    "UTC is defined by atomic clocks.\n",
    "\n",
    "UT is ambigious and may usually refer to UT1 or UTC.\n",
    "\n",
    "UT1 is defined by BIPM\n",
    "\n",
    "https://www.bipm.org/fr/about-us/\n",
    "\n",
    "https://www.nist.gov/pml/time-and-frequency-division/atomic-standards/leap-second-and-ut1-utc-information\n",
    "\n",
    "## Recommendation\n",
    "\n",
    "I would put all times in UTC at geocenter, possibly with some exceptions, clearly distinguished.\n",
    "\n",
    "UTC can be securely converted to IJD with converttime.\n",
    "\n",
    "online:\n",
    "\n",
    "https://www.astro.unige.ch/cdci/astrooda/dispatch-data/gw/timesystem/api/v1.0/converttime/UTC/2020-04-28T14:34:33/IJD\n",
    "\n",
    "\n",
    "## Extra notes\n",
    "\n",
    "https://www.stjarnhimlen.se/comp/time.html\n"
   ]
  },
  {
   "cell_type": "markdown",
   "metadata": {},
   "source": [
    "# Precision of INTEGRAL on-board timing\n",
    "\n",
    "https://iachec.org/wp-content/presentations/2018/Kuiper_SessionXI.pdf\n",
    "\n",
    "and the latest published reference (also by Lucien):\n",
    "\n",
    "https://www.aanda.org/articles/aa/pdf/2003/43/aaINTEGRAL71.pdf"
   ]
  },
  {
   "cell_type": "code",
   "execution_count": 107,
   "metadata": {},
   "outputs": [],
   "source": [
    "import requests\n",
    "import astropy.io.fits as fits\n",
    "import pandas as pd\n",
    "import matplotlib.pylab as plt\n",
    "import numpy as np\n",
    "import astropy.units as u\n",
    "import astropy.constants as const"
   ]
  },
  {
   "cell_type": "markdown",
   "metadata": {},
   "source": [
    "# Relativistic effects on timing"
   ]
  },
  {
   "cell_type": "code",
   "execution_count": 117,
   "metadata": {},
   "outputs": [],
   "source": [
    "orbit = fits.open(\"/mnt/sshfs/cdcihn/isdc/arc/rev_3/aux/adp/2121.001/orbit_historic.fits.gz\")\n",
    "t1=orbit[1].data['DAYBEG']*u.day\n",
    "t2=orbit[1].data['DAYEND']*u.day\n",
    "xyz = orbit[1].data['XYZPOS']*u.km"
   ]
  },
  {
   "cell_type": "code",
   "execution_count": 63,
   "metadata": {},
   "outputs": [],
   "source": [
    "v_r = np.sum((xyz[1:]-xyz[:-1])**2, 1)**0.5 / ((t2-t1)[:-1])\n",
    "beta = (v_r/const.c).si.value"
   ]
  },
  {
   "cell_type": "code",
   "execution_count": 112,
   "metadata": {},
   "outputs": [
    {
     "data": {
      "image/png": "[encoded data removed]",
      "text/plain": [
       "<Figure size 432x288 with 1 Axes>"
      ]
     },
     "metadata": {
      "needs_background": "light"
     },
     "output_type": "display_data"
    }
   ],
   "source": [
    "plt.figure()\n",
    "\n",
    "plt.plot(t1[:-1], beta)\n",
    "plt.ylim([0, np.percentile(beta,0.999)*10])\n",
    "\n",
    "plt.ylabel(\"v / c\")\n",
    "plt.xlabel(\"days\")\n",
    "plt.grid()"
   ]
  },
  {
   "cell_type": "code",
   "execution_count": 113,
   "metadata": {},
   "outputs": [
    {
     "data": {
      "text/latex": [
       "$[13.313642,~13.282768,~13.374338,~\\dots,~13.280975,~13.355013,~13.435343] \\; \\mathrm{ms}$"
      ],
      "text/plain": [
       "<Quantity [1.33136421e+01, 1.32827684e+01, 1.33743385e+01, 1.33545221e+01,\n",
       "           1.33403536e+01, 1.33317698e+01, 1.33290229e+01, 1.34491893e+01,\n",
       "           1.33396879e+01, 1.33536322e+01, 1.33730211e+01, 1.33980788e+01,\n",
       "           1.33117712e+01, 1.33479213e+01, 1.33897473e+01, 1.33207965e+01,\n",
       "           1.32581311e+01, 1.33166062e+01, 1.32657059e+01, 1.32212102e+01,\n",
       "           1.31827057e+01, 1.32630432e+01, 1.31244479e+01, 1.31041691e+01,\n",
       "           1.32010225e+01, 1.30823767e+01, 1.29721255e+01, 1.30847521e+01,\n",
       "           1.28809759e+01, 1.30039311e+01, 1.28164677e+01, 1.28457647e+01,\n",
       "           1.27780332e+01, 1.28195788e+01, 1.26653155e+01, 1.26198948e+01,\n",
       "           1.25818948e+01, 1.25506497e+01, 1.24316675e+01, 1.24156071e+01,\n",
       "           1.24065888e+01, 1.23125943e+01, 1.22278563e+01, 1.21521786e+01,\n",
       "           1.20853510e+01, 1.20269390e+01, 1.19769637e+01, 1.18530975e+01,\n",
       "           1.18207313e+01, 1.17168566e+01, 1.16235488e+01, 1.16167028e+01,\n",
       "           1.14672954e+01, 1.14037471e+01, 1.13497917e+01, 1.12346705e+01,\n",
       "           1.12000620e+01, 1.10397233e+01, 1.10244476e+01, 1.08889495e+01,\n",
       "           1.07670454e+01, 1.07186747e+01, 1.06205249e+01, 1.05345817e+01,\n",
       "           1.04038765e+01, 1.03419188e+01, 1.02371683e+01, 1.01455352e+01,\n",
       "           1.00158601e+01, 9.94975418e+00, 9.80008049e+00, 9.75856286e+00,\n",
       "           9.59308095e+00, 9.53166990e+00, 9.39784649e+00, 9.32055713e+00,\n",
       "           9.17750525e+00, 9.08915854e+00, 8.97782822e+00, 8.88172455e+00,\n",
       "           8.76579752e+00, 8.63291307e+00, 8.54879170e+00, 8.41758898e+00,\n",
       "           8.30382718e+00, 8.20637812e+00, 8.06994103e+00, 7.97782444e+00,\n",
       "           7.85089612e+00, 7.74185015e+00, 7.60366126e+00, 7.50663264e+00,\n",
       "           7.40458686e+00, 7.27873063e+00, 7.15238390e+00, 7.04491455e+00,\n",
       "           6.91981510e+00, 6.81381727e+00, 6.69351074e+00, 6.57702313e+00,\n",
       "           6.46486597e+00, 6.34383070e+00, 6.21620866e+00, 6.12124715e+00,\n",
       "           5.98489415e+00, 5.88108957e+00, 5.76407642e+00, 5.64696517e+00,\n",
       "           5.53097508e+00, 5.41719225e+00, 5.30645054e+00, 5.19166568e+00,\n",
       "           5.07475064e+00, 4.96435228e+00, 4.84757037e+00, 4.73919710e+00,\n",
       "           4.62750241e+00, 4.51447636e+00, 4.40679680e+00, 4.29540342e+00,\n",
       "           4.19122745e+00, 4.07787206e+00, 3.97385026e+00, 3.86455904e+00,\n",
       "           3.76244319e+00, 3.65519107e+00, 3.55391608e+00, 3.45093134e+00,\n",
       "           3.34806572e+00, 3.24681175e+00, 3.14627252e+00, 3.04972038e+00,\n",
       "           2.95070872e+00, 2.85616765e+00, 2.75911800e+00, 2.66577516e+00,\n",
       "           2.57178064e+00, 2.48107251e+00, 2.39018218e+00, 2.30159723e+00,\n",
       "           2.21360788e+00, 1.73313154e+00, 4.91905077e-01, 1.45218672e+05,\n",
       "           1.97403189e+00, 1.89113678e+00, 1.81087637e+00, 1.73100135e+00,\n",
       "           1.65319346e+00, 1.57701124e+00, 1.50189411e+00, 1.42847973e+00,\n",
       "           1.35721656e+00, 1.28692038e+00, 1.21890154e+00, 1.15200385e+00,\n",
       "           1.08730642e+00, 1.02393335e+00, 9.62739519e-01, 9.03143327e-01,\n",
       "           8.45432070e-01, 7.89507648e-01, 7.35440133e-01, 6.83418718e-01,\n",
       "           6.33205160e-01, 5.85016681e-01, 5.38769196e-01, 4.94539782e-01,\n",
       "           4.52314426e-01, 4.12191228e-01, 3.74100117e-01, 3.38125179e-01,\n",
       "           3.04252399e-01, 2.72523821e-01, 2.42932437e-01, 2.15506277e-01,\n",
       "           1.90259354e-01, 1.67191669e-01, 1.46310228e-01, 1.27601018e-01,\n",
       "           1.11078052e-01, 9.67343246e-02, 8.45488128e-02, 7.45215170e-02,\n",
       "           6.66244084e-02, 6.08434727e-02, 5.71576882e-02, 5.55390262e-02,\n",
       "           5.59664651e-02, 5.84119761e-02, 6.28545376e-02, 6.92661208e-02,\n",
       "           7.76257043e-02, 8.79122663e-02, 1.00097778e-01, 1.14182240e-01,\n",
       "           1.30130615e-01, 1.47942904e-01, 1.67591079e-01, 1.89082145e-01,\n",
       "           2.12402090e-01, 2.37550912e-01, 2.64493576e-01, 2.93279132e-01,\n",
       "           3.23872545e-01, 3.56245785e-01, 3.90440896e-01, 4.26422841e-01,\n",
       "           4.64247679e-01, 5.03803293e-01, 5.45236836e-01, 5.88373128e-01,\n",
       "           6.33317275e-01, 6.80111322e-01, 7.28566075e-01, 7.78842698e-01,\n",
       "           8.30801047e-01, 8.84574260e-01, 9.40190366e-01, 9.97376083e-01,\n",
       "           1.05621550e+00, 1.11684175e+00, 1.17927585e+00, 1.24328658e+00,\n",
       "           1.30885290e+00, 1.37629014e+00, 1.44507277e+00, 1.51526384e+00,\n",
       "           1.58790042e+00, 1.66119568e+00, 1.73687338e+00, 1.81281035e+00,\n",
       "           1.89192158e+00, 1.97129908e+00, 2.05239335e+00, 2.13480497e+00,\n",
       "           2.21904546e+00, 2.30487659e+00, 2.39091093e+00, 2.47915254e+00,\n",
       "           2.56837515e+00, 2.66002225e+00, 2.75124191e+00, 2.84363878e+00,\n",
       "           2.93954626e+00, 3.03385609e+00, 3.13112296e+00, 3.23030280e+00,\n",
       "           3.32735946e+00, 3.42859240e+00, 3.52704349e+00, 3.63027348e+00,\n",
       "           3.73409208e+00, 3.84072056e+00, 3.94076228e+00, 4.04876418e+00,\n",
       "           4.15539967e+00, 4.25858061e+00, 4.37232140e+00, 4.47398178e+00,\n",
       "           4.59039231e+00, 4.69664941e+00, 4.81011692e+00, 4.92329713e+00,\n",
       "           5.03453634e+00, 5.14200569e+00, 5.25246711e+00, 5.37454646e+00,\n",
       "           5.48888286e+00, 5.59270146e+00, 5.71623830e+00, 5.83810743e+00,\n",
       "           5.94410527e+00, 6.05657075e+00, 6.17529365e+00, 6.28558689e+00,\n",
       "           6.41537416e+00, 6.51839394e+00, 6.63987066e+00, 6.76375787e+00,\n",
       "           6.87084182e+00, 6.99615149e+00, 7.10088803e+00, 7.22335277e+00,\n",
       "           7.34287449e+00, 7.43492100e+00, 7.56719582e+00, 7.69386488e+00,\n",
       "           7.81305026e+00, 7.89567910e+00, 8.04976731e+00, 8.13563348e+00,\n",
       "           8.26698335e+00, 8.35268835e+00, 8.48593016e+00, 8.60270506e+00,\n",
       "           8.70034331e+00, 8.81294893e+00, 8.94119461e+00, 9.04682107e+00,\n",
       "           9.12649988e+00, 9.26122721e+00, 9.36917305e+00, 9.44658854e+00,\n",
       "           9.58290651e+00, 9.68731371e+00, 9.80584041e+00, 9.88788065e+00,\n",
       "           9.98218347e+00, 1.00894006e+01, 1.02098893e+01, 1.02874449e+01,\n",
       "           1.03766045e+01, 1.04775431e+01, 1.05909686e+01, 1.06542926e+01,\n",
       "           1.07921732e+01, 1.08778922e+01, 1.09745985e+01, 1.10135374e+01,\n",
       "           1.11317418e+01, 1.11899436e+01, 1.13310194e+01, 1.14096612e+01,\n",
       "           1.14981480e+01, 1.15183358e+01, 1.16259172e+01, 1.17442757e+01,\n",
       "           1.17899907e+01, 1.18441423e+01, 1.19930031e+01, 1.19786524e+01,\n",
       "           1.20587166e+01, 1.21477220e+01, 1.22456896e+01, 1.23531519e+01,\n",
       "           1.22808867e+01, 1.24040242e+01, 1.25371258e+01, 1.24828411e+01,\n",
       "           1.26326549e+01, 1.26913121e+01, 1.26551901e+01, 1.27273922e+01,\n",
       "           1.28074144e+01, 1.28950603e+01, 1.28835405e+01, 1.29856143e+01,\n",
       "           1.29865953e+01, 1.29933783e+01, 1.31167049e+01, 1.30253521e+01,\n",
       "           1.31620275e+01, 1.31937490e+01, 1.32317280e+01, 1.31617262e+01,\n",
       "           1.33264513e+01, 1.32670163e+01, 1.33291070e+01, 1.32809746e+01,\n",
       "           1.33550126e+01, 1.34353431e+01] ms>"
      ]
     },
     "execution_count": 113,
     "metadata": {},
     "output_type": "execute_result"
    }
   ],
   "source": [
    "gamma = (1-beta**2)**0.5\n",
    "(u.year/gamma - 1*u.year).to(u.ms)"
   ]
  },
  {
   "cell_type": "markdown",
   "metadata": {},
   "source": [
    "INTEGRAL lives 13 ms per year longer than ground observer"
   ]
  },
  {
   "cell_type": "code",
   "execution_count": 116,
   "metadata": {},
   "outputs": [
    {
     "data": {
      "text/latex": [
       "$[36.450766,~36.366238,~36.616943,~\\dots,~36.361327,~36.564032,~36.783965] \\; \\mathrm{\\mu s}$"
      ],
      "text/plain": [
       "<Quantity [3.64507656e+01, 3.63662380e+01, 3.66169431e+01, 3.65626889e+01,\n",
       "           3.65238975e+01, 3.65003963e+01, 3.64928759e+01, 3.68218736e+01,\n",
       "           3.65220750e+01, 3.65602524e+01, 3.66133364e+01, 3.66819407e+01,\n",
       "           3.64456433e+01, 3.65446169e+01, 3.66591301e+01, 3.64703531e+01,\n",
       "           3.62987848e+01, 3.64588807e+01, 3.63195234e+01, 3.61977008e+01,\n",
       "           3.60922812e+01, 3.63122332e+01, 3.59327800e+01, 3.58772596e+01,\n",
       "           3.61424298e+01, 3.58175953e+01, 3.55157439e+01, 3.58240989e+01,\n",
       "           3.52661900e+01, 3.56028231e+01, 3.50895760e+01, 3.51697871e+01,\n",
       "           3.49843482e+01, 3.50980940e+01, 3.46757439e+01, 3.45513889e+01,\n",
       "           3.44473506e+01, 3.43618062e+01, 3.40360508e+01, 3.39920796e+01,\n",
       "           3.39673889e+01, 3.37100460e+01, 3.34780459e+01, 3.32708517e+01,\n",
       "           3.30878876e+01, 3.29279644e+01, 3.27911394e+01, 3.24520123e+01,\n",
       "           3.23633984e+01, 3.20790051e+01, 3.18235422e+01, 3.18047988e+01,\n",
       "           3.13957436e+01, 3.12217580e+01, 3.10740361e+01, 3.07588515e+01,\n",
       "           3.06640985e+01, 3.02251152e+01, 3.01832927e+01, 2.98123190e+01,\n",
       "           2.94785636e+01, 2.93461319e+01, 2.90774125e+01, 2.88421127e+01,\n",
       "           2.84842613e+01, 2.83146306e+01, 2.80278392e+01, 2.77769615e+01,\n",
       "           2.74219303e+01, 2.72409423e+01, 2.68311581e+01, 2.67174890e+01,\n",
       "           2.62644242e+01, 2.60962899e+01, 2.57299014e+01, 2.55182947e+01,\n",
       "           2.51266400e+01, 2.48847599e+01, 2.45799541e+01, 2.43168365e+01,\n",
       "           2.39994456e+01, 2.36356279e+01, 2.34053161e+01, 2.30461026e+01,\n",
       "           2.27346398e+01, 2.24678388e+01, 2.20942944e+01, 2.18420929e+01,\n",
       "           2.14945821e+01, 2.11960305e+01, 2.08176900e+01, 2.05520401e+01,\n",
       "           2.02726540e+01, 1.99280784e+01, 1.95821599e+01, 1.92879249e+01,\n",
       "           1.89454212e+01, 1.86552150e+01, 1.83258337e+01, 1.80069080e+01,\n",
       "           1.76998384e+01, 1.73684619e+01, 1.70190518e+01, 1.67590613e+01,\n",
       "           1.63857472e+01, 1.61015457e+01, 1.57811812e+01, 1.54605480e+01,\n",
       "           1.51429845e+01, 1.48314641e+01, 1.45282698e+01, 1.42140060e+01,\n",
       "           1.38939100e+01, 1.35916558e+01, 1.32719244e+01, 1.29752145e+01,\n",
       "           1.26694111e+01, 1.23599627e+01, 1.20651521e+01, 1.17601736e+01,\n",
       "           1.14749554e+01, 1.11646052e+01, 1.08798091e+01, 1.05805860e+01,\n",
       "           1.03010080e+01, 1.00073677e+01, 9.73009193e+00, 9.44813507e+00,\n",
       "           9.16650436e+00, 8.88928611e+00, 8.61402469e+00, 8.34967935e+00,\n",
       "           8.07860019e+00, 7.81976084e+00, 7.55405338e+00, 7.29849461e+00,\n",
       "           7.04115166e+00, 6.79280632e+00, 6.54396217e+00, 6.30142978e+00,\n",
       "           6.06052808e+00, 4.74505555e+00, 1.34676270e+00, 3.97587056e+05,\n",
       "           5.40460476e+00, 5.17765031e+00, 4.95790928e+00, 4.73922341e+00,\n",
       "           4.52619702e+00, 4.31762146e+00, 4.11196197e+00, 3.91096435e+00,\n",
       "           3.71585642e+00, 3.52339597e+00, 3.33717054e+00, 3.15401465e+00,\n",
       "           2.97688274e+00, 2.80337673e+00, 2.63583715e+00, 2.47267167e+00,\n",
       "           2.31466686e+00, 2.16155414e+00, 2.01352535e+00, 1.87109848e+00,\n",
       "           1.73362125e+00, 1.60168838e+00, 1.47506967e+00, 1.35397613e+00,\n",
       "           1.23836941e+00, 1.12851808e+00, 1.02423030e+00, 9.25736288e-01,\n",
       "           8.32997671e-01, 7.46129558e-01, 6.65112765e-01, 5.90024030e-01,\n",
       "           5.20901722e-01, 4.57745841e-01, 4.00575573e-01, 3.49352547e-01,\n",
       "           3.04115133e-01, 2.64844147e-01, 2.31482034e-01, 2.04028794e-01,\n",
       "           1.82407689e-01, 1.66580350e-01, 1.56489222e-01, 1.52057567e-01,\n",
       "           1.53227830e-01, 1.59923275e-01, 1.72086345e-01, 1.89640303e-01,\n",
       "           2.12527596e-01, 2.40690667e-01, 2.74052780e-01, 3.12613935e-01,\n",
       "           3.56278207e-01, 4.05045597e-01, 4.58839367e-01, 5.17678700e-01,\n",
       "           5.81525228e-01, 6.50378951e-01, 7.24143945e-01, 8.02954503e-01,\n",
       "           8.86714702e-01, 9.75347803e-01, 1.06896891e+00, 1.16748211e+00,\n",
       "           1.27104087e+00, 1.37933824e+00, 1.49277710e+00, 1.61087783e+00,\n",
       "           1.73392820e+00, 1.86204332e+00, 1.99470520e+00, 2.13235509e+00,\n",
       "           2.27460930e+00, 2.42183233e+00, 2.57410093e+00, 2.73066689e+00,\n",
       "           2.89176043e+00, 3.05774606e+00, 3.22868132e+00, 3.40393314e+00,\n",
       "           3.58344394e+00, 3.76807705e+00, 3.95639361e+00, 4.14856629e+00,\n",
       "           4.34743441e+00, 4.54810589e+00, 4.75530015e+00, 4.96320425e+00,\n",
       "           5.17979899e+00, 5.39712275e+00, 5.61914675e+00, 5.84477746e+00,\n",
       "           6.07541537e+00, 6.31040820e+00, 6.54595738e+00, 6.78754972e+00,\n",
       "           7.03182792e+00, 7.28274401e+00, 7.53248983e+00, 7.78545868e+00,\n",
       "           8.04803904e+00, 8.30624529e+00, 8.57254747e+00, 8.84408706e+00,\n",
       "           9.10981370e+00, 9.38697440e+00, 9.65651878e+00, 9.93914711e+00,\n",
       "           1.02233869e+01, 1.05153198e+01, 1.07892191e+01, 1.10849122e+01,\n",
       "           1.13768643e+01, 1.16593583e+01, 1.19707636e+01, 1.22490945e+01,\n",
       "           1.25678092e+01, 1.28587253e+01, 1.31693824e+01, 1.34792529e+01,\n",
       "           1.37838093e+01, 1.40780443e+01, 1.43804712e+01, 1.47147063e+01,\n",
       "           1.50277423e+01, 1.53119821e+01, 1.56502075e+01, 1.59838670e+01,\n",
       "           1.62740733e+01, 1.65819870e+01, 1.69070326e+01, 1.72089990e+01,\n",
       "           1.75643372e+01, 1.78463900e+01, 1.81789751e+01, 1.85181598e+01,\n",
       "           1.88113397e+01, 1.91544189e+01, 1.94411719e+01, 1.97764621e+01,\n",
       "           2.01036947e+01, 2.03557043e+01, 2.07178530e+01, 2.10646540e+01,\n",
       "           2.13909658e+01, 2.16171912e+01, 2.20390618e+01, 2.22741505e+01,\n",
       "           2.26337669e+01, 2.28684144e+01, 2.32332106e+01, 2.35529228e+01,\n",
       "           2.38202418e+01, 2.41285392e+01, 2.44796567e+01, 2.47688462e+01,\n",
       "           2.49869949e+01, 2.53558582e+01, 2.56513978e+01, 2.58633499e+01,\n",
       "           2.62365681e+01, 2.65224195e+01, 2.68469279e+01, 2.70715418e+01,\n",
       "           2.73297289e+01, 2.76232733e+01, 2.79531534e+01, 2.81654891e+01,\n",
       "           2.84095947e+01, 2.86859496e+01, 2.89964916e+01, 2.91698633e+01,\n",
       "           2.95473598e+01, 2.97820456e+01, 3.00468130e+01, 3.01534222e+01,\n",
       "           3.04770481e+01, 3.06363958e+01, 3.10226405e+01, 3.12379498e+01,\n",
       "           3.14802136e+01, 3.15354846e+01, 3.18300266e+01, 3.21540746e+01,\n",
       "           3.22792353e+01, 3.24274943e+01, 3.28350531e+01, 3.27957629e+01,\n",
       "           3.30149668e+01, 3.32586502e+01, 3.35268709e+01, 3.38210867e+01,\n",
       "           3.36232354e+01, 3.39603673e+01, 3.43247798e+01, 3.41761563e+01,\n",
       "           3.45863242e+01, 3.47469189e+01, 3.46480221e+01, 3.48457007e+01,\n",
       "           3.50647895e+01, 3.53047511e+01, 3.52732116e+01, 3.55526744e+01,\n",
       "           3.55553603e+01, 3.55739310e+01, 3.59115809e+01, 3.56614706e+01,\n",
       "           3.60356673e+01, 3.61225162e+01, 3.62264970e+01, 3.60348423e+01,\n",
       "           3.64858352e+01, 3.63231109e+01, 3.64931061e+01, 3.63613267e+01,\n",
       "           3.65640318e+01, 3.67839647e+01] us>"
      ]
     },
     "execution_count": 116,
     "metadata": {},
     "output_type": "execute_result"
    }
   ],
   "source": [
    "(u.day/gamma - 1*u.day).to(u.microsecond)"
   ]
  },
  {
   "cell_type": "markdown",
   "metadata": {},
   "source": [
    "# Relativisitc abberation effect on source position\n",
    "\n",
    "$cos(\\theta_o) = \\frac{cos(\\theta_s) - \\beta}{1 - \\beta cos(\\theta_s)}$\n",
    "\n",
    "the effect is small but measurble, around 0.1 arcmin 10% of the time.\n",
    "compare to 12 arcmin ISGRI PSF and 3 arcmin of JEM-X, bright sources would be affected.\n",
    "\n",
    "Presumably, this is automatically corrected since star trackers are affected in the same way.\n",
    "There is also a similar effect with position dependency on the position in FoV, but this effect is even smaller.\n"
   ]
  },
  {
   "cell_type": "code",
   "execution_count": 90,
   "metadata": {},
   "outputs": [
    {
     "data": {
      "text/plain": [
       "0.09906253972114772"
      ]
     },
     "execution_count": 90,
     "metadata": {},
     "output_type": "execute_result"
    }
   ],
   "source": [
    "theta = np.pi/2.\n",
    "\n",
    "d_theta = (np.arccos((np.cos(theta) - beta)/(1-beta*np.cos(theta))) - theta)/np.pi*180*60\n",
    "\n",
    "np.quantile(d_theta,0.9)"
   ]
  }
 ],
 "metadata": {
  "kernelspec": {
   "display_name": "Python 3",
   "language": "python",
   "name": "python3"
  },
  "language_info": {
   "codemirror_mode": {
    "name": "ipython",
    "version": 3
   },
   "file_extension": ".py",
   "mimetype": "text/x-python",
   "name": "python",
   "nbconvert_exporter": "python",
   "pygments_lexer": "ipython3",
   "version": "3.8.2"
  }
 },
 "nbformat": 4,
 "nbformat_minor": 4
}
